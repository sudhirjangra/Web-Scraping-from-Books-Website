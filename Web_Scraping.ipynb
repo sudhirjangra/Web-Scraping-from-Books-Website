{
 "cells": [
  {
   "cell_type": "code",
   "execution_count": 44,
   "id": "ac3c8659-0c85-4bf3-80a4-be41770c702a",
   "metadata": {},
   "outputs": [
    {
     "name": "stdout",
     "output_type": "stream",
     "text": [
      "Scraping page 1...\n",
      "Scraping page 2...\n",
      "Scraping page 3...\n",
      "Scraping page 4...\n",
      "Scraping page 5...\n",
      "Scraping completed! Data saved to scraped_books.csv.\n"
     ]
    }
   ],
   "source": [
    "import requests\n",
    "from bs4 import BeautifulSoup\n",
    "import pandas as pd\n",
    "import time\n",
    "\n",
    "BASE_URL = \"http://books.toscrape.com/catalogue/page-{}.html\"\n",
    "\n",
    "def scrape_page(page_number):\n",
    "    url = BASE_URL.format(page_number)\n",
    "    response = requests.get(url)\n",
    "\n",
    "    if response.status_code != 200:\n",
    "        print(f\"Failed to retrieve page {page_number}\")\n",
    "        return []\n",
    "\n",
    "    soup = BeautifulSoup(response.content, 'html.parser')\n",
    "    books = soup.find_all('article', class_='product_pod')\n",
    "    scraped_data = []\n",
    "\n",
    "    for book in books:\n",
    "        title = book.h3.a['title']\n",
    "        price = book.find('p', class_='price_color').text.strip()\n",
    "        availability = book.find('p', class_='instock availability').text.strip()\n",
    "\n",
    "        scraped_data.append({\n",
    "            'Title': title,\n",
    "            'Price': price,\n",
    "            'Availability': availability\n",
    "        })\n",
    "\n",
    "    return scraped_data\n",
    "\n",
    "def scrape_multiple_pages(num_pages):\n",
    "    all_books = []\n",
    "\n",
    "    for page in range(1, num_pages + 1):\n",
    "        print(f\"Scraping page {page}...\")\n",
    "        books = scrape_page(page)\n",
    "        all_books.extend(books)\n",
    "        time.sleep(2)\n",
    "\n",
    "    return all_books\n",
    "\n",
    "def main():\n",
    "    num_pages = 5\n",
    "    scraped_books = scrape_multiple_pages(num_pages)\n",
    "    df = pd.DataFrame(scraped_books)\n",
    "    df.to_csv('scraped_books.csv', index=False)\n",
    "    print(\"Scraping completed! Data saved to scraped_books.csv.\")\n",
    "\n",
    "if __name__ == '__main__':\n",
    "    main()\n"
   ]
  },
  {
   "cell_type": "code",
   "execution_count": null,
   "id": "5f6acbef-e513-4db9-80b7-f1c6e1705fe2",
   "metadata": {},
   "outputs": [],
   "source": []
  }
 ],
 "metadata": {
  "kernelspec": {
   "display_name": "Python 3 (ipykernel)",
   "language": "python",
   "name": "python3"
  },
  "language_info": {
   "codemirror_mode": {
    "name": "ipython",
    "version": 3
   },
   "file_extension": ".py",
   "mimetype": "text/x-python",
   "name": "python",
   "nbconvert_exporter": "python",
   "pygments_lexer": "ipython3",
   "version": "3.12.4"
  }
 },
 "nbformat": 4,
 "nbformat_minor": 5
}
